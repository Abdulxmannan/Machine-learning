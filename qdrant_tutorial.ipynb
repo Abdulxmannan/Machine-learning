{
 "cells": [
  {
   "cell_type": "code",
   "execution_count": 2,
   "id": "f8f5af72-3780-4787-9ead-86c84a56abdd",
   "metadata": {},
   "outputs": [],
   "source": [
    "from qdrant_client import QdrantClient\n",
    "from qdrant_client.http import models\n",
    "import numpy as np\n",
    "from faker import Faker"
   ]
  },
  {
   "cell_type": "code",
   "execution_count": 3,
   "id": "937fcb8e-a7cd-4310-ae86-f003300cd761",
   "metadata": {},
   "outputs": [
    {
     "data": {
      "text/plain": [
       "<qdrant_client.qdrant_client.QdrantClient at 0x259cc3cbb80>"
      ]
     },
     "execution_count": 3,
     "metadata": {},
     "output_type": "execute_result"
    }
   ],
   "source": [
    "client = QdrantClient(host=\"localhost\", port=6333)\n",
    "client"
   ]
  },
  {
   "cell_type": "code",
   "execution_count": 5,
   "id": "4090ebfa-a7e8-456f-892b-b7b04fba1fa4",
   "metadata": {},
   "outputs": [
    {
     "data": {
      "text/plain": [
       "True"
      ]
     },
     "execution_count": 5,
     "metadata": {},
     "output_type": "execute_result"
    }
   ],
   "source": [
    "my_collection = \"first_collection\"\n",
    "client.create_collection(\n",
    "    collection_name=my_collection,\n",
    "    vectors_config=models.VectorParams(size=100, distance=models.Distance.COSINE)\n",
    ")"
   ]
  },
  {
   "cell_type": "code",
   "execution_count": 7,
   "id": "b6394c88-067e-4776-a2c7-14772c53e286",
   "metadata": {},
   "outputs": [],
   "source": [
    "data= np.random.uniform(low= -1.0, high=1.0, size=(1_000, 100))\n",
    "index = list(range(1_000))"
   ]
  },
  {
   "cell_type": "code",
   "execution_count": 8,
   "id": "99b9379f-f333-46f6-a7fe-10abc2ffa502",
   "metadata": {},
   "outputs": [
    {
     "data": {
      "text/plain": [
       "array([[-0.03014071, -0.74019734, -0.20964797, -0.62847091,  0.69803559,\n",
       "         0.26107119,  0.44284354, -0.69906928,  0.99813325,  0.52152067],\n",
       "       [-0.67595696, -0.40824292,  0.60325621, -0.57569899,  0.12777019,\n",
       "         0.39316794,  0.36555069,  0.84878534,  0.44136644,  0.33506853]])"
      ]
     },
     "execution_count": 8,
     "metadata": {},
     "output_type": "execute_result"
    }
   ],
   "source": [
    "data[:2, :10]"
   ]
  },
  {
   "cell_type": "code",
   "execution_count": 11,
   "id": "7f2446e9-7e74-4d2d-9fb7-0d9ab336b9e1",
   "metadata": {},
   "outputs": [
    {
     "data": {
      "text/plain": [
       "[990, 991, 992, 993, 994, 995, 996, 997, 998, 999]"
      ]
     },
     "execution_count": 11,
     "metadata": {},
     "output_type": "execute_result"
    }
   ],
   "source": [
    "index[-10:]"
   ]
  },
  {
   "cell_type": "code",
   "execution_count": 13,
   "id": "b3b63eac-f2d4-48e7-b5c8-1d4a393c2913",
   "metadata": {},
   "outputs": [
    {
     "data": {
      "text/plain": [
       "UpdateResult(operation_id=0, status=<UpdateStatus.COMPLETED: 'completed'>)"
      ]
     },
     "execution_count": 13,
     "metadata": {},
     "output_type": "execute_result"
    }
   ],
   "source": [
    "client.upsert(\n",
    "    collection_name=my_collection,\n",
    "    points=models.Batch(\n",
    "        ids=index,\n",
    "        vectors=data.tolist()\n",
    "    )\n",
    ")"
   ]
  },
  {
   "cell_type": "code",
   "execution_count": 18,
   "id": "a52bc0c1-f03b-4ac4-a266-bc8a12996cef",
   "metadata": {},
   "outputs": [
    {
     "data": {
      "text/plain": [
       "[Record(id=10, payload={}, vector=None, shard_key=None, order_value=None),\n",
       " Record(id=14, payload={}, vector=None, shard_key=None, order_value=None),\n",
       " Record(id=500, payload={}, vector=None, shard_key=None, order_value=None)]"
      ]
     },
     "execution_count": 18,
     "metadata": {},
     "output_type": "execute_result"
    }
   ],
   "source": [
    "client.retrieve(\n",
    "    collection_name=my_collection,\n",
    "    ids= [10,14,500],\n",
    "    #with_vectors=True\n",
    ")"
   ]
  },
  {
   "cell_type": "code",
   "execution_count": 19,
   "id": "f394842c-fee5-49a7-a6e1-574ea262f1bd",
   "metadata": {},
   "outputs": [
    {
     "data": {
      "text/plain": [
       "('Christopher Moran', '452 Ronald Lodge Apt. 966\\nAlfredton, MN 13547')"
      ]
     },
     "execution_count": 19,
     "metadata": {},
     "output_type": "execute_result"
    }
   ],
   "source": [
    "fake_something = Faker()\n",
    "fake_something.name(), fake_something.address()"
   ]
  },
  {
   "cell_type": "code",
   "execution_count": 20,
   "id": "3255851f-e751-4108-8c02-26f741143b2b",
   "metadata": {},
   "outputs": [
    {
     "data": {
      "text/plain": [
       "[{'artist': 'Jay Bishop',\n",
       "  'Song': 'b l u e',\n",
       "  'URL': 'http://www.hernandez.com/',\n",
       "  'year': '2011',\n",
       "  'Country': 'Eritrea'},\n",
       " {'artist': 'Ashlee Bryan',\n",
       "  'Song': 'a u t h o r i t y',\n",
       "  'URL': 'https://evans.com/',\n",
       "  'year': '1998',\n",
       "  'Country': 'Mali'},\n",
       " {'artist': 'Jake Conley',\n",
       "  'Song': 's t a n d a r d',\n",
       "  'URL': 'http://www.cruz.com/',\n",
       "  'year': '1981',\n",
       "  'Country': 'Russian Federation'}]"
      ]
     },
     "execution_count": 20,
     "metadata": {},
     "output_type": "execute_result"
    }
   ],
   "source": [
    "payload = []\n",
    "\n",
    "for i in range(1_000):\n",
    "    payload.append(\n",
    "        {\n",
    "            \"artist\": fake_something.name(),\n",
    "            \"Song\": \" \".join(fake_something.word()),\n",
    "            \"URL\": fake_something.url(),\n",
    "            \"year\": fake_something.year(),\n",
    "            \"Country\": fake_something.country(),\n",
    "        }\n",
    "    )\n",
    "\n",
    "payload[:3]"
   ]
  },
  {
   "cell_type": "code",
   "execution_count": 22,
   "id": "2c5c6a61-3148-4ce3-aae0-d27f051d9c11",
   "metadata": {},
   "outputs": [
    {
     "data": {
      "text/plain": [
       "UpdateResult(operation_id=1, status=<UpdateStatus.COMPLETED: 'completed'>)"
      ]
     },
     "execution_count": 22,
     "metadata": {},
     "output_type": "execute_result"
    }
   ],
   "source": [
    "client.upsert(\n",
    "    collection_name=my_collection,\n",
    "    points=models.Batch(\n",
    "        ids=index,\n",
    "        vectors=data.tolist(),\n",
    "        payloads=payload\n",
    "    )\n",
    ")"
   ]
  },
  {
   "cell_type": "markdown",
   "id": "5718139e-f3d0-4ce7-ad1e-560134995c21",
   "metadata": {},
   "source": [
    "semantic search"
   ]
  },
  {
   "cell_type": "code",
   "execution_count": 26,
   "id": "7c84877d-770c-48df-9109-40c34dcc984e",
   "metadata": {},
   "outputs": [
    {
     "data": {
      "text/plain": [
       "[-0.9244923548536106,\n",
       " 0.41494791205048265,\n",
       " -0.7014746410983383,\n",
       " 0.6600260565992424,\n",
       " 0.3820291759481309]"
      ]
     },
     "execution_count": 26,
     "metadata": {},
     "output_type": "execute_result"
    }
   ],
   "source": [
    "living_la_vida_loca= np.random.uniform(low= -1.0, high=1.0, size=(100)).tolist()\n",
    "living_la_vida_loca[:5]"
   ]
  },
  {
   "cell_type": "code",
   "execution_count": 27,
   "id": "de43e9a0-4a51-4cb9-b6ff-a792d234a730",
   "metadata": {},
   "outputs": [
    {
     "data": {
      "text/plain": [
       "[ScoredPoint(id=907, version=1, score=0.39742094, payload={'artist': 'Kelli Miller', 'Song': 's o m e o n e', 'URL': 'https://www.moody.com/', 'year': '1993', 'Country': 'Malawi'}, vector=None, shard_key=None, order_value=None),\n",
       " ScoredPoint(id=747, version=1, score=0.30809447, payload={'artist': 'Howard Edwards', 'Song': 'g r e e n', 'URL': 'https://maynard.org/', 'year': '2018', 'Country': 'China'}, vector=None, shard_key=None, order_value=None),\n",
       " ScoredPoint(id=295, version=1, score=0.27436155, payload={'artist': 'Amanda Rich', 'Song': 's u f f e r', 'URL': 'https://www.sandoval.com/', 'year': '1975', 'Country': 'Venezuela'}, vector=None, shard_key=None, order_value=None),\n",
       " ScoredPoint(id=500, version=1, score=0.2534599, payload={'artist': 'Brandi Hall', 'Song': 'e f f e c t', 'URL': 'https://scott-smith.com/', 'year': '2022', 'Country': 'Ecuador'}, vector=None, shard_key=None, order_value=None),\n",
       " ScoredPoint(id=947, version=1, score=0.24528192, payload={'artist': 'Anthony Parrish', 'Song': 'o f', 'URL': 'https://www.randall-harris.com/', 'year': '1976', 'Country': 'Uganda'}, vector=None, shard_key=None, order_value=None),\n",
       " ScoredPoint(id=538, version=1, score=0.24306668, payload={'artist': 'Gabriel Collins', 'Song': 'n o t e', 'URL': 'https://www.chan.biz/', 'year': '2002', 'Country': 'Qatar'}, vector=None, shard_key=None, order_value=None),\n",
       " ScoredPoint(id=319, version=1, score=0.23551734, payload={'artist': 'Matthew Knight', 'Song': 'b e c a u s e', 'URL': 'http://www.oneal-mcdonald.com/', 'year': '2023', 'Country': 'Hong Kong'}, vector=None, shard_key=None, order_value=None),\n",
       " ScoredPoint(id=465, version=1, score=0.22536027, payload={'artist': 'Clayton Bryant', 'Song': 'p r e s i d e n t', 'URL': 'https://www.fisher.net/', 'year': '1983', 'Country': 'Bouvet Island (Bouvetoya)'}, vector=None, shard_key=None, order_value=None),\n",
       " ScoredPoint(id=366, version=1, score=0.22247978, payload={'artist': 'Stephanie Patterson', 'Song': 'b e h a v i o r', 'URL': 'http://powell.biz/', 'year': '1982', 'Country': 'United States of America'}, vector=None, shard_key=None, order_value=None),\n",
       " ScoredPoint(id=349, version=1, score=0.22097503, payload={'artist': 'Aaron Massey', 'Song': 'i n d i c a t e', 'URL': 'http://nichols.net/', 'year': '1990', 'Country': 'Pakistan'}, vector=None, shard_key=None, order_value=None)]"
      ]
     },
     "execution_count": 27,
     "metadata": {},
     "output_type": "execute_result"
    }
   ],
   "source": [
    "client.search(\n",
    "    collection_name=my_collection,\n",
    "    query_vector=living_la_vida_loca,\n",
    "    limit=10\n",
    ")"
   ]
  },
  {
   "cell_type": "code",
   "execution_count": 45,
   "id": "bdb92fba-7d63-4b67-9862-02b6d503af85",
   "metadata": {},
   "outputs": [
    {
     "data": {
      "text/plain": [
       "Filter(should=None, min_should=None, must=[FieldCondition(key='country', match=MatchValue(value='Australia'), range=None, geo_bounding_box=None, geo_radius=None, geo_polygon=None, values_count=None)], must_not=None)"
      ]
     },
     "execution_count": 45,
     "metadata": {},
     "output_type": "execute_result"
    }
   ],
   "source": [
    "aussie_songs = models.Filter(\n",
    "    must = [\n",
    "        models.FieldCondition(\n",
    "            key=\"country\",match=models.MatchValue(value=\"Australia\")\n",
    "        )\n",
    "    ]\n",
    ")\n",
    "aussie_songs"
   ]
  },
  {
   "cell_type": "code",
   "execution_count": 57,
   "id": "4f464101-5e49-4f05-b5d8-c8c946dda2d6",
   "metadata": {},
   "outputs": [
    {
     "data": {
      "text/plain": [
       "[]"
      ]
     },
     "execution_count": 57,
     "metadata": {},
     "output_type": "execute_result"
    }
   ],
   "source": [
    "client.query_points(\n",
    "    collection_name=my_collection,\n",
    "    query=living_la_vida_loca,\n",
    "    query_filter=aussie_songs,\n",
    "    with_payload=models.PayloadSelectorExclude(exclude=[\"year\"]),\n",
    "    limit=5\n",
    ").points"
   ]
  },
  {
   "cell_type": "code",
   "execution_count": 59,
   "id": "6c400b1b-5be6-44a4-9e3f-16d01c81bf9f",
   "metadata": {},
   "outputs": [
    {
     "data": {
      "text/plain": [
       "[ScoredPoint(id=684, version=1, score=0.35292754, payload={'artist': 'Christopher Hicks', 'Song': 'm a y b e', 'URL': 'http://www.lynch.com/', 'year': '2015', 'Country': 'Libyan Arab Jamahiriya'}, vector=None, shard_key=None, order_value=None),\n",
       " ScoredPoint(id=707, version=1, score=0.30003223, payload={'artist': 'Nicholas Martinez', 'Song': 'l a w y e r', 'URL': 'http://www.daugherty.com/', 'year': '2024', 'Country': 'Indonesia'}, vector=None, shard_key=None, order_value=None),\n",
       " ScoredPoint(id=514, version=1, score=0.28852525, payload={'artist': 'Jonathan Lamb', 'Song': 'f e w', 'URL': 'http://sanders.com/', 'year': '1993', 'Country': 'Barbados'}, vector=None, shard_key=None, order_value=None),\n",
       " ScoredPoint(id=660, version=1, score=0.28100246, payload={'artist': 'Ariel Alexander', 'Song': 'a c t', 'URL': 'http://www.johnson-watson.com/', 'year': '1997', 'Country': 'Gambia'}, vector=None, shard_key=None, order_value=None),\n",
       " ScoredPoint(id=77, version=1, score=0.2789402, payload={'artist': 'Roger Hanna', 'Song': 'c h u r c h', 'URL': 'http://lambert-dunn.com/', 'year': '2017', 'Country': 'Albania'}, vector=None, shard_key=None, order_value=None)]"
      ]
     },
     "execution_count": 59,
     "metadata": {},
     "output_type": "execute_result"
    }
   ],
   "source": [
    "client.recommend(\n",
    "    collection_name=my_collection,\n",
    "    positive=[17],\n",
    "    limit=5\n",
    ")"
   ]
  },
  {
   "cell_type": "code",
   "execution_count": 61,
   "id": "682f565e-568c-4919-8d74-57d5906555eb",
   "metadata": {},
   "outputs": [
    {
     "data": {
      "text/plain": [
       "[]"
      ]
     },
     "execution_count": 61,
     "metadata": {},
     "output_type": "execute_result"
    }
   ],
   "source": [
    "client.query_points(\n",
    "    collection_name=my_collection,\n",
    "    query=models.RecommendQuery(recommend=models.RecommendInput(\n",
    "        positive=[17],\n",
    "        negative=[120, 180]\n",
    "    )),\n",
    "    query_filter=models.Filter(\n",
    "        must=[models.FieldCondition(key=\"country\", match=models.MatchValue(value=\"Dominican Republic\"))]\n",
    "    ),\n",
    "    limit=5\n",
    ").points"
   ]
  },
  {
   "cell_type": "code",
   "execution_count": null,
   "id": "cc82cca2-9c3a-4317-9b76-70beddab3f1e",
   "metadata": {},
   "outputs": [],
   "source": []
  }
 ],
 "metadata": {
  "kernelspec": {
   "display_name": "Python 3 (ipykernel)",
   "language": "python",
   "name": "python3"
  },
  "language_info": {
   "codemirror_mode": {
    "name": "ipython",
    "version": 3
   },
   "file_extension": ".py",
   "mimetype": "text/x-python",
   "name": "python",
   "nbconvert_exporter": "python",
   "pygments_lexer": "ipython3",
   "version": "3.10.14"
  }
 },
 "nbformat": 4,
 "nbformat_minor": 5
}
